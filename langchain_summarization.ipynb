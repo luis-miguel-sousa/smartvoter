{
 "cells": [
  {
   "cell_type": "code",
   "execution_count": null,
   "metadata": {},
   "outputs": [],
   "source": [
    "!pip install chromadb==0.4.20 langchain==0.0.342"
   ]
  },
  {
   "cell_type": "markdown",
   "metadata": {},
   "source": [
    "### Summarization chain"
   ]
  },
  {
   "cell_type": "code",
   "execution_count": 2,
   "metadata": {},
   "outputs": [],
   "source": [
    "import chromadb\n",
    "from chromadb.utils import embedding_functions\n",
    "\n",
    "#instantiate Chroma client & embedding function\n",
    "chroma_client = chromadb.Client()\n",
    "client = chromadb.PersistentClient(path=\"chroma_db/\")\n",
    "sentence_transformer_ef = embedding_functions.SentenceTransformerEmbeddingFunction(model_name=\"all-MiniLM-L6-v2\")"
   ]
  },
  {
   "cell_type": "code",
   "execution_count": 6,
   "metadata": {},
   "outputs": [],
   "source": [
    "# delete existing collection to start fresh\n",
    "try:\n",
    "    chroma_client.delete_collection('portuguese_mililm_l6_v2')\n",
    "except:\n",
    "    print(\"collection didn't exist yet\")"
   ]
  },
  {
   "cell_type": "code",
   "execution_count": 7,
   "metadata": {},
   "outputs": [],
   "source": [
    "#get or create a new collection\n",
    "collection = chroma_client.get_or_create_collection(name=\"portuguese_mililm_l6_v2\", embedding_function=sentence_transformer_ef)"
   ]
  },
  {
   "cell_type": "code",
   "execution_count": 9,
   "metadata": {},
   "outputs": [],
   "source": [
    "import json \n",
    "\n",
    "def flatten(xss):\n",
    "    return [x for xs in xss for x in xs]\n",
    "   \n",
    "def get_livre_data():\n",
    "\n",
    "    data = []\n",
    "\n",
    "    for i in range(1,8):\n",
    "        f = open(f'livre-2024_{i}.json') \n",
    "        loaded = json.load(f)\n",
    "        data.append(loaded)\n",
    "    \n",
    "    data = flatten(data)\n",
    "    \n",
    "    #split up docs\n",
    "    documents = [i['content'] for i in data]\n",
    "    metadatas = [{'chapter':i['chapter'], 'party':'livre', 'year':2024} for i in data]\n",
    "    \n",
    "    return documents, metadatas"
   ]
  },
  {
   "cell_type": "code",
   "execution_count": 17,
   "metadata": {},
   "outputs": [],
   "source": [
    "documents_livre, metadatas_livre = get_livre_data()"
   ]
  },
  {
   "cell_type": "code",
   "execution_count": 21,
   "metadata": {},
   "outputs": [],
   "source": [
    "def get_il_data():\n",
    "    documents = []\n",
    "    metadatas = []\n",
    "    \n",
    "    f = open(f'programs/json/il-2022.json') \n",
    "    data = json.load(f)\n",
    "\n",
    "    for j, i in enumerate(data):\n",
    "        c = 0\n",
    "        if i['content'] == None:\n",
    "            c += 1\n",
    "            pass\n",
    "        else:\n",
    "            # only added content here\n",
    "            content = ' '.join(i['content'])\n",
    "            chapter = i['chapter']\n",
    "            party = 'il'\n",
    "            year = 2022\n",
    "            \n",
    "            documents.append(content)\n",
    "            metadatas.append({'chapter':chapter,\\\n",
    "                'party':party,\\\n",
    "                    'year':2022})\n",
    "            \n",
    "    return documents, metadatas"
   ]
  },
  {
   "cell_type": "code",
   "execution_count": 22,
   "metadata": {},
   "outputs": [],
   "source": [
    "documents_il, metadatas_il = get_il_data()"
   ]
  },
  {
   "cell_type": "code",
   "execution_count": 29,
   "metadata": {},
   "outputs": [
    {
     "data": {
      "text/plain": [
       "(430, 430, 430)"
      ]
     },
     "execution_count": 29,
     "metadata": {},
     "output_type": "execute_result"
    }
   ],
   "source": [
    "full_docs = documents_livre + documents_il\n",
    "full_metadata = metadatas_livre + metadatas_il\n",
    "full_ids = [str(i) for i in range(len(full_docs))]\n",
    "\n",
    "#necessary for chroma\n",
    "len(full_docs), len(full_metadata), len(full_ids)"
   ]
  },
  {
   "cell_type": "code",
   "execution_count": 30,
   "metadata": {},
   "outputs": [],
   "source": [
    "#add to chroma\n",
    "collection.add(\n",
    "    documents=full_docs,\n",
    "    metadatas=full_metadata,\n",
    "    ids=full_ids)"
   ]
  },
  {
   "cell_type": "code",
   "execution_count": 31,
   "metadata": {},
   "outputs": [],
   "source": [
    "#query for chroma_db\n",
    "query = 'Deixemos as classes dominantes tremerem perante uma revolução comunista. Os proletários não possuem nada a perder a não ser suas correntes. Eles têm um mundo para ganhar. Trabalhadores de todos os países, uni-vos!'"
   ]
  },
  {
   "cell_type": "code",
   "execution_count": 33,
   "metadata": {},
   "outputs": [
    {
     "data": {
      "text/plain": [
       "{'ids': [['69', '25', '282', '20', '386']],\n",
       " 'distances': [[0.6900758743286133,\n",
       "   0.7773330211639404,\n",
       "   0.7953920364379883,\n",
       "   0.8023964166641235,\n",
       "   0.8042513132095337]],\n",
       " 'metadatas': [[{'chapter': 'Educação', 'party': 'livre', 'year': 2024},\n",
       "   {'chapter': 'Igualdade, Justiça Social e Liberdade',\n",
       "    'party': 'livre',\n",
       "    'year': 2024},\n",
       "   {'chapter': 'Estado e Instituições', 'party': 'livre', 'year': 2024},\n",
       "   {'chapter': 'Igualdade, Justiça Social e Liberdade',\n",
       "    'party': 'livre',\n",
       "    'year': 2024},\n",
       "   {'chapter': 'Educação', 'party': 'il', 'year': 2022}]],\n",
       " 'embeddings': None,\n",
       " 'documents': [['Transformar o 12º ano num ano zero de entrada na universidade e politécnicos, permitindo não só recuperar a geração Covid como torná-la numa das mais capacitadas a entrar no ensino superior — ou na vida profissional para aqueles que fizessem apenas o ano zero e não quisessem prosseguir. O ano zero da universidade deve ser para todos: gradual e tendencialmente lecionado em ambiente universitário e incidir sobre conteúdos e práticas que fazem falta não só aos estudantes do ensino superior mas a todos os futuros profissionais de uma força de trabalho que precisamos que seja altamente qualificada.',\n",
       "   'Proteger e promover os direitos das pessoas com deficiência, revendo a Estratégia Nacional para a Inclusão das Pessoas com Deficiência; cumprindo os sistemas de quotas para a contratação de pessoas com deficiência no setor público e privado; aumentando o montante da Prestação Social para a Inclusão; ampliando o teto de deduções à coleta e do reembolso de despesas relacionadas com a deficiência; assegurando a continuidade das medidas de apoio à vida independente, expandindo a rede nacional de Centros de Apoio à Vida Independente (CAVI) e alargando este apoio a menores de 16 anos; reduzindo a burocracia envolvida nos apoios à contratação das pessoas com deficiência, facilitando o acesso das empresas a estas medidas; reforçando os meios humanos e materiais de apoio à inclusão escolar de crianças e jovens com deficiência, incluindo para alunos que necessitem de adaptações significativas; facilitar a transição pós-escolar de jovens com deficiência, identificando técnicos de transição que façam a ponte entre a escola e potenciais locais de trabalho, ocupação e lazer que possam fazer parte de um projeto de vida após a escolaridade obrigatória e disponibilizando dados sobre o sucesso escolar e percurso pós-escolar das pessoas com deficiência; promovendo uma avaliação sistemática das residências universitárias em Portugal, que garanta que alunos com deficiência têm residências adaptadas .',\n",
       "   'Profissionalizar os bombeiros voluntários, integrando-os nos serviços do Estado destinados à integridade territorial e estimulando de forma socialmente justa a respetiva distribuição no território de acordo com as necessidades identificadas.',\n",
       "   'Assegurar a proteção social e laboral e garantir o respeito pela dignidade das pessoas que se prostituem, através de soluções sempre construídas em conjunto com as mulheres e os homens envolvidos nesta atividade; criando as condições para que as pessoas que se prostituem possam ver protegidos os seus direitos, a sua saúde preservada e ter acesso a medidas de segurança;  policiando o tráfico e a exploração e não a prática da prostituição; concebendo, financiando e alocando recursos a planos de saída da prostituição não discriminatórios a quem o deseje, envolvendo não só a administração central, mas também as autarquias locais, organizações não governamentais e associações de pessoas na prostituição; prevenindo a entrada de pessoas desprotegidas na prostituição.',\n",
       "   'Rever, em conjunto com os agentes educativos, o regime de avaliação dos docentes, colocando à consideração um regime de avaliação assente em resultados relativos, ou seja, na melhoria dos resultados dos alunos tendo em conta o contexto em que se inserem. Estabelecer um regime de avaliação das escolas com base numa análise multifatorial (desempenho obtido, desempenho esperado, contexto socioeconómico, etc.), e utilização dessa avaliação para procurar boas práticas e para partilha de casos e melhoria da qualidade e resultados nas escolas com pior desempenho. Rever a divulgação de rankings escolares, no sentido de os tornar mais completos, com base na avaliação multifatorial referida acima. Promover a disseminação de boas práticas, com base na autonomia e na promoção de partilha de experiências entre escolas (através de workshops, conferências, programas de intercâmbio de pessoal, e outras formas dinamizadas a nível das próprias escolas, a nível local, a nível nacional e a nível europeu); Ter uma política de publicitação ativa de dados em matérias relacionadas com a Educação, para potenciar o escrutínio e o debate públicos, promover a correção de deficiências e a disseminação de boas práticas, e para potenciar a investigação em matérias relacionadas com a Educação. Promover uma cultura de indicadores transversais entre diversas instituições, como por exemplo Ministério da Educação, escolas e outras entidades, como, por exemplo, o Instituto Nacional de Estatística.']],\n",
       " 'uris': None,\n",
       " 'data': None}"
      ]
     },
     "execution_count": 33,
     "metadata": {},
     "output_type": "execute_result"
    }
   ],
   "source": [
    "#Query db - return x best matching results => to provide to llm\n",
    "results = collection.query(\n",
    "query_texts=[query],\n",
    "    n_results=5\n",
    ")\n",
    "\n",
    "results"
   ]
  },
  {
   "cell_type": "code",
   "execution_count": 35,
   "metadata": {},
   "outputs": [],
   "source": [
    "from langchain.text_splitter import RecursiveCharacterTextSplitter\n",
    "\n",
    "#split returned docs to fit context window llm\n",
    "text_splitter = RecursiveCharacterTextSplitter(chunk_size=2000, chunk_overlap=100)\n",
    "texts = text_splitter.create_documents(results[\"documents\"][0], metadatas=results['metadatas'][0])\n",
    "texts = text_splitter.split_documents(texts)"
   ]
  },
  {
   "cell_type": "code",
   "execution_count": 69,
   "metadata": {},
   "outputs": [],
   "source": [
    "from langchain import PromptTemplate\n",
    "from langchain.chains.summarize import load_summarize_chain\n",
    "from langchain.callbacks.streaming_stdout import StreamingStdOutCallbackHandler\n",
    "from langchain.llms import GPT4All\n",
    "from langchain.prompts import PromptTemplate\n",
    "\n",
    "prompt_template = \"\"\"You will receive documents in Portuguese. Summarize the documents in Portuguese in bullet points.\n",
    "              ```{text}```\n",
    "  \"\"\"\n",
    "\n",
    "prompt = PromptTemplate(template=prompt_template, input_variables=[\"page_content\"])"
   ]
  },
  {
   "cell_type": "code",
   "execution_count": 70,
   "metadata": {},
   "outputs": [],
   "source": [
    "#model path see here https://gpt4all.io/index.html\n",
    "\n",
    "local_path = (\n",
    "    \"llm_model/gpt4all-falcon-q4_0.gguf\"  # replace with your desired local file path\n",
    ")"
   ]
  },
  {
   "cell_type": "code",
   "execution_count": 71,
   "metadata": {},
   "outputs": [],
   "source": [
    "# Callbacks support token-wise streaming\n",
    "callbacks = [StreamingStdOutCallbackHandler()]\n",
    "\n",
    "# Verbose is required to pass to the callback manager\n",
    "llm = GPT4All(model=local_path, callbacks=callbacks, verbose=True)"
   ]
  },
  {
   "cell_type": "code",
   "execution_count": 72,
   "metadata": {},
   "outputs": [],
   "source": [
    "stuff_chain = load_summarize_chain(llm, chain_type=\"stuff\", prompt=prompt)"
   ]
  },
  {
   "cell_type": "code",
   "execution_count": 73,
   "metadata": {},
   "outputs": [
    {
     "name": "stdout",
     "output_type": "stream",
     "text": [
      "\n",
      "The Portuguese government plans to implement several measures to address the issue of missing children in Portugal. These include:\n",
      "\n",
      "* Establishing a National Missing Persons Unit within the Ministry of Justice and Human Rights, which will coordinate all missing persons investigations and provide support to families of missing persons.\n",
      "* Creating a database of missing persons, including information on their age, gender, location, and other relevant details. This database will be accessible to law enforcement agencies, NGOs, and other organizations working to prevent and address missing persons cases.\n",
      "* Implementing a national hotline for reporting missing persons, which will be staffed by trained professionals who can provide support and guidance to families of missing persons.\n",
      "* Establishing a National Missing Persons Advisory Committee, which will coordinate all efforts related to missing persons in Portugal and ensure that the government is taking a comprehensive approach to addressing this issue.\n",
      "* Promoting public awareness campaigns on missing persons, including through social media platforms and other channels, to encourage people to report any missing persons cases they may have witnessed or heard about.\n",
      "* Providing training and support to law enforcement agencies and NGOs working to prevent and address missing persons cases, including through the use of technology and data analysis tools.\n",
      "* Establishing a national database of missing persons, which will be accessible"
     ]
    }
   ],
   "source": [
    "try:\n",
    "    stuff_chain.run(texts)\n",
    "except Exception as e:\n",
    "    print(\n",
    "        \"The code failed since it won't be able to run inference on such a huge context and throws this exception: \",\n",
    "        e,\n",
    "    )"
   ]
  },
  {
   "cell_type": "markdown",
   "metadata": {},
   "source": [
    "### Notes\n",
    "- apparently it understands Portuguese since content and query was done in PT - doesn't answer in PT yet\n",
    "- havent't really figured out how to add the metadata tags to the prompt (besides actually giving it two lists)\n",
    "    - think I can manually split the docs per party, summarize with above chain and then feed the individual summarization to a ```map_reduce``` chain to make a summary of summaries\n",
    "\n",
    "- will first maybe have a look at a chatbot or question/answering option"
   ]
  },
  {
   "cell_type": "code",
   "execution_count": null,
   "metadata": {},
   "outputs": [],
   "source": []
  }
 ],
 "metadata": {
  "kernelspec": {
   "display_name": "finance",
   "language": "python",
   "name": "python3"
  },
  "language_info": {
   "codemirror_mode": {
    "name": "ipython",
    "version": 3
   },
   "file_extension": ".py",
   "mimetype": "text/x-python",
   "name": "python",
   "nbconvert_exporter": "python",
   "pygments_lexer": "ipython3",
   "version": "3.10.6"
  }
 },
 "nbformat": 4,
 "nbformat_minor": 2
}
