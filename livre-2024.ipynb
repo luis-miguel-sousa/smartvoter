{
 "cells": [
  {
   "cell_type": "code",
   "execution_count": 37,
   "id": "fb046c14-8731-4e73-b0b2-00ba0f88b49a",
   "metadata": {},
   "outputs": [],
   "source": [
    "import requests\n",
    "from bs4 import BeautifulSoup\n",
    "\n",
    "\n",
    "def read_chapter(n):\n",
    "    url = f'https://programa.partidolivre.pt/capitulos/{n}'\n",
    "    response = requests.get(url)\n",
    "\n",
    "    soup = BeautifulSoup(response.content, 'html.parser')\n",
    "\n",
    "    proposals = soup.find_all('div', class_='proposal')\n",
    "\n",
    "    output = []\n",
    "    for proposal in proposals:\n",
    "        number = proposal.find('div', class_='proposal-number').text\n",
    "        chapter = proposal.find('a', class_='chapter-link').text\n",
    "        content = proposal.find('div', class_='proposal-text').text\n",
    "        \n",
    "        output.append({\n",
    "            'number': number.strip(),\n",
    "            'chapter': chapter.strip(),\n",
    "            'content': content.strip()\n",
    "        })\n",
    "    \n",
    "    return output"
   ]
  },
  {
   "cell_type": "code",
   "execution_count": 48,
   "id": "484be752-620b-403b-ac0f-af4ac667cdfc",
   "metadata": {},
   "outputs": [],
   "source": [
    "from collections import defaultdict\n",
    "import json\n",
    "\n",
    "all_proposals = defaultdict(list)\n",
    "\n",
    "for i in range(7):\n",
    "    for j in range(3*i + 1, 3*(i+1) + 1):\n",
    "        all_proposals[i] += read_chapter(j)\n",
    "        \n",
    "    with open(f'livre-2024_{i+1}.json', 'w') as f:\n",
    "        f.write(json.dumps(all_proposals[i], ensure_ascii=False))"
   ]
  },
  {
   "cell_type": "code",
   "execution_count": null,
   "id": "01b2204f-071f-459b-89ae-3af4262cb288",
   "metadata": {},
   "outputs": [],
   "source": []
  }
 ],
 "metadata": {
  "kernelspec": {
   "display_name": "Python 3 (ipykernel)",
   "language": "python",
   "name": "python3"
  },
  "language_info": {
   "codemirror_mode": {
    "name": "ipython",
    "version": 3
   },
   "file_extension": ".py",
   "mimetype": "text/x-python",
   "name": "python",
   "nbconvert_exporter": "python",
   "pygments_lexer": "ipython3",
   "version": "3.10.8"
  }
 },
 "nbformat": 4,
 "nbformat_minor": 5
}
